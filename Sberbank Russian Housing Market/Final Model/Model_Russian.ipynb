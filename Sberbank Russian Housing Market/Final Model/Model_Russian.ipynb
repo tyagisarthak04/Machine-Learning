{
  "cells": [
    {
      "cell_type": "code",
      "execution_count": 2,
      "metadata": {
        "id": "7W_AsKUOpu0O"
      },
      "outputs": [],
      "source": [
        "import pandas as pd\n",
        "import numpy as np\n",
        "import matplotlib.pyplot as plt"
      ]
    },
    {
      "cell_type": "code",
      "execution_count": 3,
      "metadata": {
        "id": "N3WTF-wyqIQF"
      },
      "outputs": [],
      "source": [
        "x_train = pd.read_csv(r'D:\\Datasets\\russian house price\\EDA\\train_data.csv')\n",
        "y_train = pd.read_csv(r'D:\\Datasets\\russian house price\\EDA\\ytrain_data.csv')\n",
        "x_test = pd.read_csv(r'D:\\Datasets\\russian house price\\EDA\\test_data.csv')\n",
        "y_test = pd.read_csv(r'D:\\Datasets\\russian house price\\EDA\\ytest_data.csv')"
      ]
    },
    {
      "cell_type": "code",
      "execution_count": 4,
      "metadata": {
        "colab": {
          "base_uri": "https://localhost:8080/",
          "height": 243
        },
        "id": "mNNr-ueDr8wl",
        "outputId": "95e51b3b-36ee-418a-8052-0e6d396f7e31"
      },
      "outputs": [
        {
          "data": {
            "text/html": [
              "<div>\n",
              "<style scoped>\n",
              "    .dataframe tbody tr th:only-of-type {\n",
              "        vertical-align: middle;\n",
              "    }\n",
              "\n",
              "    .dataframe tbody tr th {\n",
              "        vertical-align: top;\n",
              "    }\n",
              "\n",
              "    .dataframe thead th {\n",
              "        text-align: right;\n",
              "    }\n",
              "</style>\n",
              "<table border=\"1\" class=\"dataframe\">\n",
              "  <thead>\n",
              "    <tr style=\"text-align: right;\">\n",
              "      <th></th>\n",
              "      <th>Unnamed: 0</th>\n",
              "      <th>full_sq</th>\n",
              "      <th>floor</th>\n",
              "      <th>build_year</th>\n",
              "      <th>num_room</th>\n",
              "      <th>kitch_sq</th>\n",
              "      <th>state</th>\n",
              "      <th>product_type</th>\n",
              "      <th>raion_popul</th>\n",
              "      <th>indust_part</th>\n",
              "      <th>...</th>\n",
              "      <th>cafe_sum_1000_min_price_avg</th>\n",
              "      <th>cafe_count_1000_price_high</th>\n",
              "      <th>cafe_sum_1500_min_price_avg</th>\n",
              "      <th>green_part_2000</th>\n",
              "      <th>cafe_sum_2000_min_price_avg</th>\n",
              "      <th>mosque_count_3000</th>\n",
              "      <th>prom_part_5000</th>\n",
              "      <th>cafe_sum_5000_min_price_avg</th>\n",
              "      <th>mosque_count_5000</th>\n",
              "      <th>year</th>\n",
              "    </tr>\n",
              "  </thead>\n",
              "  <tbody>\n",
              "    <tr>\n",
              "      <th>0</th>\n",
              "      <td>3400</td>\n",
              "      <td>40</td>\n",
              "      <td>11.0</td>\n",
              "      <td>1979.0</td>\n",
              "      <td>2.0</td>\n",
              "      <td>6.0</td>\n",
              "      <td>2.0</td>\n",
              "      <td>1</td>\n",
              "      <td>9.990536</td>\n",
              "      <td>0.075779</td>\n",
              "      <td>...</td>\n",
              "      <td>6.214608</td>\n",
              "      <td>0</td>\n",
              "      <td>6.214608</td>\n",
              "      <td>3.837946</td>\n",
              "      <td>6.214608</td>\n",
              "      <td>0</td>\n",
              "      <td>1.517323</td>\n",
              "      <td>6.494570</td>\n",
              "      <td>0</td>\n",
              "      <td>2012</td>\n",
              "    </tr>\n",
              "    <tr>\n",
              "      <th>1</th>\n",
              "      <td>5049</td>\n",
              "      <td>32</td>\n",
              "      <td>4.0</td>\n",
              "      <td>1979.0</td>\n",
              "      <td>2.0</td>\n",
              "      <td>6.0</td>\n",
              "      <td>2.0</td>\n",
              "      <td>0</td>\n",
              "      <td>11.628225</td>\n",
              "      <td>0.282798</td>\n",
              "      <td>...</td>\n",
              "      <td>5.703782</td>\n",
              "      <td>0</td>\n",
              "      <td>6.299758</td>\n",
              "      <td>3.726416</td>\n",
              "      <td>6.396930</td>\n",
              "      <td>0</td>\n",
              "      <td>2.801541</td>\n",
              "      <td>6.499712</td>\n",
              "      <td>1</td>\n",
              "      <td>2012</td>\n",
              "    </tr>\n",
              "    <tr>\n",
              "      <th>2</th>\n",
              "      <td>23675</td>\n",
              "      <td>41</td>\n",
              "      <td>12.0</td>\n",
              "      <td>2007.0</td>\n",
              "      <td>1.0</td>\n",
              "      <td>10.0</td>\n",
              "      <td>4.0</td>\n",
              "      <td>0</td>\n",
              "      <td>11.186239</td>\n",
              "      <td>0.158249</td>\n",
              "      <td>...</td>\n",
              "      <td>6.907755</td>\n",
              "      <td>0</td>\n",
              "      <td>6.620073</td>\n",
              "      <td>3.476923</td>\n",
              "      <td>6.620073</td>\n",
              "      <td>0</td>\n",
              "      <td>1.724551</td>\n",
              "      <td>6.578181</td>\n",
              "      <td>0</td>\n",
              "      <td>2014</td>\n",
              "    </tr>\n",
              "    <tr>\n",
              "      <th>3</th>\n",
              "      <td>29837</td>\n",
              "      <td>84</td>\n",
              "      <td>9.0</td>\n",
              "      <td>2014.0</td>\n",
              "      <td>3.0</td>\n",
              "      <td>10.0</td>\n",
              "      <td>1.0</td>\n",
              "      <td>0</td>\n",
              "      <td>11.352980</td>\n",
              "      <td>0.161532</td>\n",
              "      <td>...</td>\n",
              "      <td>6.506128</td>\n",
              "      <td>0</td>\n",
              "      <td>5.703782</td>\n",
              "      <td>2.910719</td>\n",
              "      <td>6.173786</td>\n",
              "      <td>0</td>\n",
              "      <td>1.994700</td>\n",
              "      <td>6.228787</td>\n",
              "      <td>0</td>\n",
              "      <td>2015</td>\n",
              "    </tr>\n",
              "    <tr>\n",
              "      <th>4</th>\n",
              "      <td>18588</td>\n",
              "      <td>46</td>\n",
              "      <td>4.0</td>\n",
              "      <td>1962.0</td>\n",
              "      <td>2.0</td>\n",
              "      <td>5.0</td>\n",
              "      <td>2.0</td>\n",
              "      <td>0</td>\n",
              "      <td>11.019268</td>\n",
              "      <td>0.000000</td>\n",
              "      <td>...</td>\n",
              "      <td>6.109248</td>\n",
              "      <td>0</td>\n",
              "      <td>6.595781</td>\n",
              "      <td>3.018472</td>\n",
              "      <td>6.579251</td>\n",
              "      <td>1</td>\n",
              "      <td>2.296567</td>\n",
              "      <td>6.616253</td>\n",
              "      <td>1</td>\n",
              "      <td>2014</td>\n",
              "    </tr>\n",
              "  </tbody>\n",
              "</table>\n",
              "<p>5 rows × 51 columns</p>\n",
              "</div>"
            ],
            "text/plain": [
              "   Unnamed: 0  full_sq  floor  build_year  num_room  kitch_sq  state  \\\n",
              "0        3400       40   11.0      1979.0       2.0       6.0    2.0   \n",
              "1        5049       32    4.0      1979.0       2.0       6.0    2.0   \n",
              "2       23675       41   12.0      2007.0       1.0      10.0    4.0   \n",
              "3       29837       84    9.0      2014.0       3.0      10.0    1.0   \n",
              "4       18588       46    4.0      1962.0       2.0       5.0    2.0   \n",
              "\n",
              "   product_type  raion_popul  indust_part  ...  cafe_sum_1000_min_price_avg  \\\n",
              "0             1     9.990536     0.075779  ...                     6.214608   \n",
              "1             0    11.628225     0.282798  ...                     5.703782   \n",
              "2             0    11.186239     0.158249  ...                     6.907755   \n",
              "3             0    11.352980     0.161532  ...                     6.506128   \n",
              "4             0    11.019268     0.000000  ...                     6.109248   \n",
              "\n",
              "   cafe_count_1000_price_high  cafe_sum_1500_min_price_avg  green_part_2000  \\\n",
              "0                           0                     6.214608         3.837946   \n",
              "1                           0                     6.299758         3.726416   \n",
              "2                           0                     6.620073         3.476923   \n",
              "3                           0                     5.703782         2.910719   \n",
              "4                           0                     6.595781         3.018472   \n",
              "\n",
              "   cafe_sum_2000_min_price_avg  mosque_count_3000  prom_part_5000  \\\n",
              "0                     6.214608                  0        1.517323   \n",
              "1                     6.396930                  0        2.801541   \n",
              "2                     6.620073                  0        1.724551   \n",
              "3                     6.173786                  0        1.994700   \n",
              "4                     6.579251                  1        2.296567   \n",
              "\n",
              "   cafe_sum_5000_min_price_avg  mosque_count_5000  year  \n",
              "0                     6.494570                  0  2012  \n",
              "1                     6.499712                  1  2012  \n",
              "2                     6.578181                  0  2014  \n",
              "3                     6.228787                  0  2015  \n",
              "4                     6.616253                  1  2014  \n",
              "\n",
              "[5 rows x 51 columns]"
            ]
          },
          "execution_count": 4,
          "metadata": {},
          "output_type": "execute_result"
        }
      ],
      "source": [
        "x_test.head()"
      ]
    },
    {
      "cell_type": "code",
      "execution_count": 5,
      "metadata": {
        "id": "Zt23tQb3v4dc"
      },
      "outputs": [],
      "source": [
        "x_train.drop('Unnamed: 0',axis=1,inplace=True)\n",
        "x_test.drop('Unnamed: 0',axis=1,inplace=True)\n",
        "y_train.drop('Unnamed: 0',axis=1,inplace=True)\n",
        "y_test.drop('Unnamed: 0',axis=1,inplace=True)"
      ]
    },
    {
      "cell_type": "code",
      "execution_count": 6,
      "metadata": {
        "id": "-h1oFRUzxvAE"
      },
      "outputs": [],
      "source": [
        "from sklearn.preprocessing import StandardScaler"
      ]
    },
    {
      "cell_type": "code",
      "execution_count": 7,
      "metadata": {
        "id": "fHvu-X8ou8eW"
      },
      "outputs": [],
      "source": [
        "scaler = StandardScaler()\n",
        "train_data = scaler.fit_transform(x_train)\n",
        "test_data = scaler.fit_transform(x_test)"
      ]
    },
    {
      "cell_type": "code",
      "execution_count": 8,
      "metadata": {
        "id": "_V-KqXY5rJAB"
      },
      "outputs": [],
      "source": [
        "train = pd.DataFrame(train_data,columns=x_train.columns)\n",
        "test = pd.DataFrame(test_data,columns=x_test.columns)"
      ]
    },
    {
      "cell_type": "code",
      "execution_count": 9,
      "metadata": {
        "colab": {
          "base_uri": "https://localhost:8080/"
        },
        "id": "DizLV0gHxwtZ",
        "outputId": "0b30b946-f9a1-4a33-e657-62c3dfc8e5e0"
      },
      "outputs": [
        {
          "data": {
            "text/plain": [
              "(21329, 50)"
            ]
          },
          "execution_count": 9,
          "metadata": {},
          "output_type": "execute_result"
        }
      ],
      "source": [
        "train.shape"
      ]
    },
    {
      "cell_type": "code",
      "execution_count": 10,
      "metadata": {},
      "outputs": [
        {
          "name": "stderr",
          "output_type": "stream",
          "text": [
            "C:\\Users\\user\\AppData\\Local\\Temp/ipykernel_16744/2660331953.py:3: DeprecationWarning: `import kerastuner` is deprecated, please use `import keras_tuner`.\n",
            "  from kerastuner.tuners import RandomSearch\n"
          ]
        }
      ],
      "source": [
        "from tensorflow import keras\n",
        "from tensorflow.keras import layers\n",
        "from kerastuner.tuners import RandomSearch"
      ]
    },
    {
      "cell_type": "code",
      "execution_count": 11,
      "metadata": {},
      "outputs": [],
      "source": [
        "def build_model(hp):\n",
        "    model = keras.Sequential()\n",
        "    for i in range(hp.Int('num_layers',2,20)):\n",
        "        model.add(layers.Dense(units= hp.Int('units_'+str(i),\n",
        "                                        min_value=32,\n",
        "                                        max_value =512,\n",
        "                                        step=32),\n",
        "                                        activation='relu'))\n",
        "        model.add(layers.Dense(1,activation='linear'))\n",
        "        model.compile(optimizer=keras.optimizers.Adam(hp.Choice('learning_rate',[1e-2,1e-3,1e-4,1e-5])),\n",
        "        loss ='mean_absolute_error',\n",
        "        metrics=['mean_absolute_error'])\n",
        "    return model"
      ]
    },
    {
      "cell_type": "code",
      "execution_count": 12,
      "metadata": {},
      "outputs": [
        {
          "name": "stdout",
          "output_type": "stream",
          "text": [
            "INFO:tensorflow:Reloading Oracle from existing project project1.1\\Russiann Data Price\\oracle.json\n",
            "INFO:tensorflow:Reloading Tuner from project1.1\\Russiann Data Price\\tuner0.json\n"
          ]
        }
      ],
      "source": [
        "tuner = RandomSearch(build_model,objective='val_mean_absolute_error',max_trials=5,executions_per_trial=3,\n",
        "directory='project1.1',project_name='Russiann Data Price')"
      ]
    },
    {
      "cell_type": "code",
      "execution_count": 13,
      "metadata": {},
      "outputs": [
        {
          "data": {
            "text/plain": [
              "<bound method BaseTuner.search_space_summary of <keras_tuner.tuners.randomsearch.RandomSearch object at 0x000001FC765C01C0>>"
            ]
          },
          "execution_count": 13,
          "metadata": {},
          "output_type": "execute_result"
        }
      ],
      "source": [
        "tuner.search_space_summary"
      ]
    },
    {
      "cell_type": "code",
      "execution_count": 14,
      "metadata": {
        "id": "TcjzJP-CrMlW"
      },
      "outputs": [],
      "source": [
        "from sklearn.linear_model import Lasso\n",
        "from sklearn.linear_model import Ridge\n",
        "from sklearn.linear_model import LinearRegression\n",
        "from sklearn.ensemble import RandomForestRegressor\n",
        "from xgboost import XGBRegressor\n",
        "from sklearn.linear_model import ElasticNet"
      ]
    },
    {
      "cell_type": "code",
      "execution_count": 15,
      "metadata": {},
      "outputs": [
        {
          "name": "stdout",
          "output_type": "stream",
          "text": [
            "INFO:tensorflow:Oracle triggered exit\n"
          ]
        }
      ],
      "source": [
        "tuner.search(train,y_train,epochs=10,validation_data = (test,y_test))"
      ]
    },
    {
      "cell_type": "code",
      "execution_count": 16,
      "metadata": {},
      "outputs": [
        {
          "name": "stdout",
          "output_type": "stream",
          "text": [
            "Results summary\n",
            "Results in project1.1\\Russiann Data Price\n",
            "Showing 10 best trials\n",
            "Objective(name='val_mean_absolute_error', direction='min')\n",
            "Trial summary\n",
            "Hyperparameters:\n",
            "num_layers: 8\n",
            "units_0: 416\n",
            "learning_rate: 0.01\n",
            "units_1: 480\n",
            "units_2: 64\n",
            "units_3: 128\n",
            "units_4: 416\n",
            "units_5: 64\n",
            "units_6: 192\n",
            "units_7: 512\n",
            "units_8: 384\n",
            "units_9: 288\n",
            "units_10: 96\n",
            "units_11: 448\n",
            "units_12: 288\n",
            "units_13: 256\n",
            "units_14: 384\n",
            "Score: 0.28480525811513263\n",
            "Trial summary\n",
            "Hyperparameters:\n",
            "num_layers: 15\n",
            "units_0: 320\n",
            "learning_rate: 0.0001\n",
            "units_1: 416\n",
            "units_2: 224\n",
            "units_3: 480\n",
            "units_4: 64\n",
            "units_5: 256\n",
            "units_6: 64\n",
            "units_7: 160\n",
            "units_8: 384\n",
            "units_9: 416\n",
            "units_10: 256\n",
            "units_11: 448\n",
            "units_12: 448\n",
            "units_13: 64\n",
            "units_14: 32\n",
            "Score: 0.2904561261336009\n",
            "Trial summary\n",
            "Hyperparameters:\n",
            "num_layers: 14\n",
            "units_0: 64\n",
            "learning_rate: 0.01\n",
            "units_1: 192\n",
            "units_2: 288\n",
            "units_3: 96\n",
            "units_4: 32\n",
            "units_5: 32\n",
            "units_6: 32\n",
            "units_7: 32\n",
            "units_8: 32\n",
            "units_9: 32\n",
            "units_10: 32\n",
            "units_11: 32\n",
            "units_12: 32\n",
            "units_13: 32\n",
            "Score: 0.30203012625376385\n",
            "Trial summary\n",
            "Hyperparameters:\n",
            "num_layers: 2\n",
            "units_0: 512\n",
            "learning_rate: 0.0001\n",
            "units_1: 128\n",
            "units_2: 480\n",
            "units_3: 288\n",
            "units_4: 160\n",
            "units_5: 416\n",
            "units_6: 384\n",
            "units_7: 160\n",
            "units_8: 352\n",
            "units_9: 160\n",
            "units_10: 192\n",
            "units_11: 64\n",
            "units_12: 256\n",
            "units_13: 64\n",
            "units_14: 288\n",
            "Score: 1.2589635848999023\n",
            "Trial summary\n",
            "Hyperparameters:\n",
            "num_layers: 4\n",
            "units_0: 160\n",
            "learning_rate: 1e-05\n",
            "units_1: 224\n",
            "units_2: 32\n",
            "units_3: 32\n",
            "Score: 3.054788510004679\n"
          ]
        }
      ],
      "source": [
        "tuner.results_summary()"
      ]
    },
    {
      "cell_type": "code",
      "execution_count": 17,
      "metadata": {},
      "outputs": [],
      "source": [
        "from tensorflow.keras.layers import Dense, Activation\n",
        "import tensorflow"
      ]
    },
    {
      "cell_type": "code",
      "execution_count": 23,
      "metadata": {},
      "outputs": [],
      "source": [
        "callback = tensorflow.keras.callbacks.EarlyStopping(\n",
        "    monitor=\"val_loss\",\n",
        "    min_delta=0,\n",
        "    patience=2,\n",
        "    verbose=1,\n",
        "    mode=\"min\",\n",
        "    baseline=None,\n",
        "    restore_best_weights=False,\n",
        ")"
      ]
    },
    {
      "cell_type": "code",
      "execution_count": 24,
      "metadata": {},
      "outputs": [],
      "source": [
        "model = keras.Sequential()\n",
        "model.add(Dense(units=416,activation='relu',input_dim=50,kernel_initializer='he_uniform'))\n",
        "model.add(Dense(units=480,activation='relu',kernel_initializer='he_uniform'))\n",
        "model.add(Dense(units=64,activation='relu',kernel_initializer='he_uniform'))\n",
        "model.add(Dense(units=128,activation='relu',kernel_initializer='he_uniform'))\n",
        "model.add(Dense(units=416,activation='relu',kernel_initializer='he_uniform'))\n",
        "model.add(Dense(units=64,activation='relu',kernel_initializer='he_uniform'))\n",
        "model.add(Dense(units=192,activation='relu',kernel_initializer='he_uniform'))\n",
        "model.add(Dense(units=512,activation='relu',kernel_initializer='he_uniform'))\n",
        "model.add(Dense(units=384,activation='relu',kernel_initializer='he_uniform'))\n",
        "model.add(Dense(units=288,activation='relu',kernel_initializer='he_uniform'))\n",
        "model.add(Dense(units=96,activation='relu',kernel_initializer='he_uniform'))\n",
        "model.add(Dense(units=448,activation='relu',kernel_initializer='he_uniform'))\n",
        "model.add(Dense(units=288,activation='relu',kernel_initializer='he_uniform'))\n",
        "model.add(Dense(units=256,activation='relu',kernel_initializer='he_uniform'))\n",
        "model.add(Dense(units=384,activation='relu',kernel_initializer='he_uniform'))\n",
        "model.add(layers.Dense(1,activation='linear'))\n",
        "model.compile(optimizer=keras.optimizers.Adam(learning_rate= 0.01),\n",
        "        loss ='mean_absolute_error',\n",
        "        metrics=['mean_absolute_error'])"
      ]
    },
    {
      "cell_type": "code",
      "execution_count": 32,
      "metadata": {},
      "outputs": [
        {
          "name": "stdout",
          "output_type": "stream",
          "text": [
            "Epoch 1/100\n",
            "107/107 [==============================] - 3s 28ms/step - loss: 0.4311 - mean_absolute_error: 0.4311 - val_loss: 0.5338 - val_mean_absolute_error: 0.5338\n",
            "Epoch 2/100\n",
            "107/107 [==============================] - 2s 23ms/step - loss: 0.4075 - mean_absolute_error: 0.4075 - val_loss: 0.5978 - val_mean_absolute_error: 0.5978\n",
            "Epoch 3/100\n",
            "107/107 [==============================] - 2s 20ms/step - loss: 0.3848 - mean_absolute_error: 0.3848 - val_loss: 0.3264 - val_mean_absolute_error: 0.3264\n",
            "Epoch 4/100\n",
            "107/107 [==============================] - 2s 20ms/step - loss: 0.4224 - mean_absolute_error: 0.4224 - val_loss: 0.4074 - val_mean_absolute_error: 0.4074\n",
            "Epoch 5/100\n",
            "107/107 [==============================] - 2s 20ms/step - loss: 0.3413 - mean_absolute_error: 0.3413 - val_loss: 0.3174 - val_mean_absolute_error: 0.3174\n",
            "Epoch 6/100\n",
            "107/107 [==============================] - 2s 21ms/step - loss: 0.3528 - mean_absolute_error: 0.3528 - val_loss: 0.3014 - val_mean_absolute_error: 0.3014\n",
            "Epoch 7/100\n",
            "107/107 [==============================] - 2s 20ms/step - loss: 0.3822 - mean_absolute_error: 0.3822 - val_loss: 0.2965 - val_mean_absolute_error: 0.2965\n",
            "Epoch 8/100\n",
            "107/107 [==============================] - 2s 21ms/step - loss: 0.3284 - mean_absolute_error: 0.3284 - val_loss: 0.3219 - val_mean_absolute_error: 0.3219\n",
            "Epoch 9/100\n",
            "107/107 [==============================] - 2s 21ms/step - loss: 0.2925 - mean_absolute_error: 0.2925 - val_loss: 0.3238 - val_mean_absolute_error: 0.3238\n",
            "Epoch 00009: early stopping\n"
          ]
        }
      ],
      "source": [
        "model_history = model.fit(train,y_train,batch_size = 200,epochs=100,validation_data=(test,y_test),callbacks=[callback])"
      ]
    },
    {
      "cell_type": "code",
      "execution_count": 33,
      "metadata": {},
      "outputs": [],
      "source": [
        "y_pred = model.predict(test)"
      ]
    },
    {
      "cell_type": "code",
      "execution_count": 34,
      "metadata": {},
      "outputs": [
        {
          "name": "stdout",
          "output_type": "stream",
          "text": [
            "0.3237588585372859\n"
          ]
        }
      ],
      "source": [
        "from sklearn.metrics import mean_absolute_error\n",
        "print(mean_absolute_error(y_test,y_pred))"
      ]
    },
    {
      "cell_type": "code",
      "execution_count": 35,
      "metadata": {},
      "outputs": [],
      "source": [
        "model.save(\"House_price.h5\")"
      ]
    },
    {
      "cell_type": "code",
      "execution_count": null,
      "metadata": {
        "id": "91prHaqVtqHF"
      },
      "outputs": [],
      "source": []
    },
    {
      "cell_type": "code",
      "execution_count": null,
      "metadata": {},
      "outputs": [],
      "source": []
    }
  ],
  "metadata": {
    "colab": {
      "collapsed_sections": [],
      "name": "Model Russian.ipynb",
      "provenance": []
    },
    "interpreter": {
      "hash": "38d51dd8e8d25c2b4859ddf5fde4d8615b38902fd48d30a19bf46ddb81d406a6"
    },
    "kernelspec": {
      "display_name": "Python 3.9.7 64-bit (windows store)",
      "name": "python3"
    },
    "language_info": {
      "codemirror_mode": {
        "name": "ipython",
        "version": 3
      },
      "file_extension": ".py",
      "mimetype": "text/x-python",
      "name": "python",
      "nbconvert_exporter": "python",
      "pygments_lexer": "ipython3",
      "version": "3.9.7"
    }
  },
  "nbformat": 4,
  "nbformat_minor": 2
}
